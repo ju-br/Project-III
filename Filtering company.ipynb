{
 "cells": [
  {
   "cell_type": "code",
   "execution_count": 1,
   "id": "64dbc9d6",
   "metadata": {},
   "outputs": [],
   "source": [
    "# Libraries\n",
    "from pymongo import MongoClient, GEOSPHERE\n",
    "import pandas as pd\n",
    "import time\n",
    "from collections import Counter\n",
    "import json\n",
    "import geopandas as gpd"
   ]
  },
  {
   "cell_type": "code",
   "execution_count": 2,
   "id": "aa3b8699",
   "metadata": {},
   "outputs": [],
   "source": [
    "client = MongoClient(\"localhost:27017\")"
   ]
  },
  {
   "cell_type": "code",
   "execution_count": 3,
   "id": "7ff1c976",
   "metadata": {},
   "outputs": [],
   "source": [
    "db = client[\"Ironhack\"]"
   ]
  },
  {
   "cell_type": "code",
   "execution_count": 4,
   "id": "5e6351b7",
   "metadata": {},
   "outputs": [],
   "source": [
    "#geting the dataset\n",
    "c=db.get_collection(\"companies\")"
   ]
  },
  {
   "cell_type": "code",
   "execution_count": 5,
   "id": "fb77407c",
   "metadata": {},
   "outputs": [
    {
     "data": {
      "text/plain": [
       "[{'name': '99designs',\n",
       "  'offices': [{'city': 'San Francisco'},\n",
       "   {'city': 'Collingwood'},\n",
       "   {'city': 'Berlin'}]},\n",
       " {'name': 'Graticle', 'offices': [{'city': 'Ellensburg'}]},\n",
       " {'name': 'Kickstarter', 'offices': [{'city': 'Brooklyn'}]},\n",
       " {'name': 'Moonfruit', 'offices': [{'city': 'London'}]}]"
      ]
     },
     "execution_count": 5,
     "metadata": {},
     "output_type": "execute_result"
    }
   ],
   "source": [
    "# filter for the design companies\n",
    "#only 4\n",
    "filter_design = {\"category_code\":\"design\"}\n",
    "projection_design = {\"_id\":0, \"name\":1, \"offices.city\":1}\n",
    "list(c.find(filter_design, projection_design))"
   ]
  },
  {
   "cell_type": "code",
   "execution_count": 6,
   "id": "a71b6e17",
   "metadata": {},
   "outputs": [
    {
     "data": {
      "text/plain": [
       "[None, 'advertising', 'analytics', 'automotive', 'biotech']"
      ]
     },
     "execution_count": 6,
     "metadata": {},
     "output_type": "execute_result"
    }
   ],
   "source": [
    "#checking for the industry to define tech industry\n",
    "list(c.distinct(\"category_code\"))[:5]"
   ]
  },
  {
   "cell_type": "code",
   "execution_count": 7,
   "id": "af63d06b",
   "metadata": {},
   "outputs": [],
   "source": [
    "#list with tech companies\n",
    "tech = ['biotech','cleantech','ecommerce','games_video','nanotech','software','web']"
   ]
  },
  {
   "cell_type": "code",
   "execution_count": 8,
   "id": "b1c586d4",
   "metadata": {},
   "outputs": [
    {
     "data": {
      "text/plain": [
       "[2010, 2011, 2012, 2013]"
      ]
     },
     "execution_count": 8,
     "metadata": {},
     "output_type": "execute_result"
    }
   ],
   "source": [
    "#check list of latest founded year\n",
    "list(c.distinct(\"founded_year\"))[-4:]"
   ]
  },
  {
   "cell_type": "code",
   "execution_count": 9,
   "id": "0530eeee",
   "metadata": {},
   "outputs": [
    {
     "data": {
      "text/plain": [
       "5250000"
      ]
     },
     "execution_count": 9,
     "metadata": {},
     "output_type": "execute_result"
    }
   ],
   "source": [
    "c.find_one()[\"funding_rounds\"][0]['raised_amount']"
   ]
  },
  {
   "cell_type": "code",
   "execution_count": 10,
   "id": "d544a9b1",
   "metadata": {},
   "outputs": [],
   "source": [
    "# filter tech companies for startup criteria\n",
    "filter_tech = {\"category_code\":{\"$in\":tech}}\n",
    "filter_year = {\"founded_year\":{\"$gte\":2000}}\n",
    "filter_funding = {\"funding_rounds.raised_amount\":{\"$gte\":1000000}}\n",
    "filter_employees={\"number_of_employees\":{\"$lte\":100}}"
   ]
  },
  {
   "cell_type": "code",
   "execution_count": 11,
   "id": "a9dfd29c",
   "metadata": {},
   "outputs": [],
   "source": [
    "#list of filters with all filters\n",
    "all_filters=[ filter_tech, filter_year, filter_funding, filter_employees ]"
   ]
  },
  {
   "cell_type": "code",
   "execution_count": 12,
   "id": "f1f87970",
   "metadata": {},
   "outputs": [
    {
     "data": {
      "text/plain": [
       "[{'offices': [{'city': 'Seattle'}, {'city': 'New York'}]},\n",
       " {'offices': [{'city': 'West Hollywood'}]},\n",
       " {'offices': [{'city': 'New York'}]},\n",
       " {'offices': [{'city': 'Sunnyvale'}]},\n",
       " {'offices': [{'city': 'Culver City'}]},\n",
       " {'offices': [{'city': 'San Francisco'}]},\n",
       " {'offices': [{'city': 'New York'}]},\n",
       " {'offices': [{'city': 'Pleasanton'}]},\n",
       " {'offices': [{'city': 'Luxembourg City'},\n",
       "   {'city': 'Palo Alto'},\n",
       "   {'city': 'London'}]},\n",
       " {'offices': [{'city': 'San Bruno'}]}]"
      ]
     },
     "execution_count": 12,
     "metadata": {},
     "output_type": "execute_result"
    }
   ],
   "source": [
    "#list with all filters applied to 'c'\n",
    "projection_3 = {\"_id\":0,\"offices.city\":1}\n",
    "x=list(c.find({\"$and\": all_filters}, projection_3))\n",
    "x[:10]"
   ]
  },
  {
   "cell_type": "code",
   "execution_count": 13,
   "id": "ae62a180",
   "metadata": {},
   "outputs": [
    {
     "data": {
      "text/plain": [
       "'Seattle'"
      ]
     },
     "execution_count": 13,
     "metadata": {},
     "output_type": "execute_result"
    }
   ],
   "source": [
    "# Checking an individual element to design the for loop\n",
    "x[0]['offices'][0]['city']"
   ]
  },
  {
   "cell_type": "code",
   "execution_count": 14,
   "id": "a36ed622",
   "metadata": {},
   "outputs": [
    {
     "data": {
      "text/plain": [
       "['Seattle',\n",
       " 'New York',\n",
       " 'West Hollywood',\n",
       " 'New York',\n",
       " 'Sunnyvale',\n",
       " 'Culver City',\n",
       " 'San Francisco',\n",
       " 'New York',\n",
       " 'Pleasanton',\n",
       " 'Luxembourg City']"
      ]
     },
     "execution_count": 14,
     "metadata": {},
     "output_type": "execute_result"
    }
   ],
   "source": [
    "# List of cities from offices from companies\n",
    "cities=[j['city'] for i in x for j in i['offices'] ]\n",
    "cities[:10]"
   ]
  },
  {
   "cell_type": "code",
   "execution_count": 15,
   "id": "1c328f38",
   "metadata": {},
   "outputs": [
    {
     "name": "stdout",
     "output_type": "stream",
     "text": [
      "San Francisco    61\n",
      "New York         57\n",
      "London           31\n",
      "Seattle          23\n",
      "San Mateo        20\n",
      "Palo Alto        16\n",
      "Paris            15\n",
      "Los Angeles      12\n",
      "Cambridge        12\n",
      "Sunnyvale        10\n",
      "dtype: int64\n"
     ]
    }
   ],
   "source": [
    "#Top 10 count of city mentions.\n",
    "counts = pd.Series(cities).value_counts()\n",
    "print(counts[:10])"
   ]
  },
  {
   "cell_type": "code",
   "execution_count": 16,
   "id": "7d1e6a4d",
   "metadata": {},
   "outputs": [
    {
     "data": {
      "text/plain": [
       "'\\nBerlin\\nToronto\\nMontreal\\n    New York\\nBoston\\n    San Francisco\\n    London\\n'"
      ]
     },
     "execution_count": 16,
     "metadata": {},
     "output_type": "execute_result"
    }
   ],
   "source": [
    "# Best cities to work as a Designer\n",
    "# https://www.designrush.com/agency/graphic-design/trends/top-countries-and-cities-for-design-jobs#:~:text=New%20York%20City%20is%20an,of%20the%20best%20design%20talent\n",
    "'''\n",
    "Berlin\n",
    "Toronto\n",
    "Montreal\n",
    "    New York\n",
    "Boston\n",
    "    San Francisco\n",
    "    London\n",
    "'''"
   ]
  },
  {
   "cell_type": "code",
   "execution_count": 17,
   "id": "0f94704d",
   "metadata": {},
   "outputs": [],
   "source": [
    "# Cross reference both and we got our 3 cities: San Francisco, New York & London."
   ]
  },
  {
   "cell_type": "code",
   "execution_count": 18,
   "id": "1895f050",
   "metadata": {},
   "outputs": [
    {
     "name": "stdout",
     "output_type": "stream",
     "text": [
      "zsh: parse error near `()'\r\n"
     ]
    }
   ],
   "source": [
    "# London Tech startup cluster\n",
    "![East London]()"
   ]
  },
  {
   "cell_type": "code",
   "execution_count": 19,
   "id": "5bb75b2a",
   "metadata": {},
   "outputs": [
    {
     "name": "stdout",
     "output_type": "stream",
     "text": [
      "zsh: parse error near `()'\r\n"
     ]
    }
   ],
   "source": [
    "# New York Tech startup cluster\n",
    "![Lower & Mid Manhattan]()"
   ]
  },
  {
   "cell_type": "code",
   "execution_count": 20,
   "id": "21699e10",
   "metadata": {},
   "outputs": [],
   "source": [
    "# New York json from https://raw.githubusercontent.com/mongodb/docs-assets/geospatial/restaurants.json\n",
    "nyneigh = db.get_collection(\"nyneigh\")"
   ]
  },
  {
   "cell_type": "code",
   "execution_count": 21,
   "id": "ebfb46fb",
   "metadata": {},
   "outputs": [
    {
     "data": {
      "text/plain": [
       "'location_2dsphere'"
      ]
     },
     "execution_count": 21,
     "metadata": {},
     "output_type": "execute_result"
    }
   ],
   "source": [
    "db.nyneigh.create_index([(\"location\", GEOSPHERE)])"
   ]
  },
  {
   "cell_type": "code",
   "execution_count": 22,
   "id": "d71e80f6",
   "metadata": {},
   "outputs": [
    {
     "data": {
      "text/plain": [
       "{'_id': ObjectId('55cb9c666c522cafdb053a1a'),\n",
       " 'geometry': {'coordinates': [[[-73.94193078816193, 40.70072523469547],\n",
       "    [-73.9443878859649, 40.70042452378256],\n",
       "    [-73.94424286147482, 40.69969927964773],\n",
       "    [-73.94409591260093, 40.69897295461309],\n",
       "    [-73.94394947271304, 40.69822127983908],\n",
       "    [-73.94391750192877, 40.69805620211356],\n",
       "    [-73.94380383211836, 40.697469265449826],\n",
       "    [-73.94378455587042, 40.6973697290538],\n",
       "    [-73.94374306706803, 40.69715549995503],\n",
       "    [-73.9437245356891, 40.697059812179496],\n",
       "    [-73.94368427322361, 40.696851909818065],\n",
       "    [-73.9436842703752, 40.69685189440415],\n",
       "    [-73.94363806934868, 40.69661331854307],\n",
       "    [-73.94362121369004, 40.696526279661654],\n",
       "    [-73.9435563415296, 40.69619128295102],\n",
       "    [-73.94354024149403, 40.6961081421151],\n",
       "    [-73.94352527471477, 40.69603085523812],\n",
       "    [-73.94338802084431, 40.69528899051899],\n",
       "    [-73.943242490861, 40.694557485733355],\n",
       "    [-73.94312826743185, 40.693967038330925],\n",
       "    [-73.94311427813774, 40.693894720557466],\n",
       "    [-73.94310040895432, 40.69382302905847],\n",
       "    [-73.94295136131598, 40.69309078423585],\n",
       "    [-73.94280765181726, 40.692357794128945],\n",
       "    [-73.94266181801652, 40.69162434435983],\n",
       "    [-73.94251587928605, 40.69089200097073],\n",
       "    [-73.94236932748694, 40.690159944665304],\n",
       "    [-73.94222203471806, 40.68942797886745],\n",
       "    [-73.94207684924385, 40.68869720298344],\n",
       "    [-73.9419324508184, 40.687962958755094],\n",
       "    [-73.94178527584324, 40.687228372121126],\n",
       "    [-73.94163933150469, 40.68649727009258],\n",
       "    [-73.94149491757346, 40.68576452882908],\n",
       "    [-73.94134827184915, 40.685031202512505],\n",
       "    [-73.94120399291621, 40.68429983923358],\n",
       "    [-73.94105783787931, 40.68356687284592],\n",
       "    [-73.9409133427312, 40.682833617234294],\n",
       "    [-73.94076893329961, 40.68210083903887],\n",
       "    [-73.94062005382186, 40.68137013010259],\n",
       "    [-73.94047635005941, 40.680635695422964],\n",
       "    [-73.94032793962053, 40.67988997506463],\n",
       "    [-73.94120864299748, 40.67993835375214],\n",
       "    [-73.94326176928655, 40.68005060712657],\n",
       "    [-73.94397347805013, 40.680088128426995],\n",
       "    [-73.94627470970092, 40.68021332692951],\n",
       "    [-73.94674915979888, 40.680239661363046],\n",
       "    [-73.9477302355664, 40.680291846282316],\n",
       "    [-73.9495568871113, 40.68039040292329],\n",
       "    [-73.95115828512961, 40.68047861480679],\n",
       "    [-73.95155682676496, 40.680498847575564],\n",
       "    [-73.95337017508861, 40.68064050844431],\n",
       "    [-73.95351616791015, 40.68138260047889],\n",
       "    [-73.95366256227194, 40.68211490361348],\n",
       "    [-73.95380893530668, 40.68284800827331],\n",
       "    [-73.95395453033524, 40.68358077882069],\n",
       "    [-73.95410042574005, 40.684313107633436],\n",
       "    [-73.95424647696164, 40.68504624826183],\n",
       "    [-73.95439296867414, 40.685779720013606],\n",
       "    [-73.95453798607406, 40.68651117540455],\n",
       "    [-73.95468418850508, 40.68724485443714],\n",
       "    [-73.95684165193596, 40.68699607883792],\n",
       "    [-73.95956770121337, 40.68668255592727],\n",
       "    [-73.95971374756459, 40.6874156340909],\n",
       "    [-73.95985939425704, 40.688147451217226],\n",
       "    [-73.96000519802635, 40.688881033718204],\n",
       "    [-73.96009714565346, 40.689345210097464],\n",
       "    [-73.96012172912181, 40.68946930706387],\n",
       "    [-73.96017256138677, 40.68972986156118],\n",
       "    [-73.96018691858275, 40.689803455988546],\n",
       "    [-73.96022304539724, 40.689988627383755],\n",
       "    [-73.96023740336433, 40.69006222280781],\n",
       "    [-73.96029281668112, 40.690346249915414],\n",
       "    [-73.96013760800457, 40.69036438035883],\n",
       "    [-73.96008336800442, 40.6903707157072],\n",
       "    [-73.95957591847137, 40.69042998753855],\n",
       "    [-73.95942791320554, 40.69044727471387],\n",
       "    [-73.95934862389824, 40.6904564609108],\n",
       "    [-73.95928133730644, 40.69046425696955],\n",
       "    [-73.95899330491858, 40.69049762936284],\n",
       "    [-73.95886713625437, 40.69051224801476],\n",
       "    [-73.95857844775936, 40.690545694857576],\n",
       "    [-73.9581804874994, 40.69059073040573],\n",
       "    [-73.95808563435828, 40.69060146372528],\n",
       "    [-73.95727249112613, 40.69069347835403],\n",
       "    [-73.95635602958276, 40.69079978191732],\n",
       "    [-73.95541057949602, 40.690908291885876],\n",
       "    [-73.95582662769675, 40.69299238288233],\n",
       "    [-73.95614239268207, 40.69457901857237],\n",
       "    [-73.9570870194244, 40.694470440162995],\n",
       "    [-73.95799732979468, 40.694365838684114],\n",
       "    [-73.95931047927598, 40.69421508783189],\n",
       "    [-73.96015854658333, 40.69411730915604],\n",
       "    [-73.96062056531659, 40.6963201401926],\n",
       "    [-73.96092543804184, 40.69773650701631],\n",
       "    [-73.96105100700007, 40.698326078819065],\n",
       "    [-73.96019688857467, 40.698462727438596],\n",
       "    [-73.95885874627406, 40.6986773264162],\n",
       "    [-73.95795938220984, 40.69882000321581],\n",
       "    [-73.95701993123406, 40.698973914349565],\n",
       "    [-73.957167301054, 40.69970786791901],\n",
       "    [-73.95722517405626, 40.69999935002626],\n",
       "    [-73.95745736372834, 40.70082260318457],\n",
       "    [-73.95572361014881, 40.70194576955721],\n",
       "    [-73.9538119690652, 40.70318097979544],\n",
       "    [-73.95318085172319, 40.70261690547745],\n",
       "    [-73.95255052777945, 40.7020516665144],\n",
       "    [-73.951920189279, 40.70148754916077],\n",
       "    [-73.95128819434734, 40.70092236548591],\n",
       "    [-73.95027424109588, 40.70157924195056],\n",
       "    [-73.9493787354337, 40.70215888982628],\n",
       "    [-73.94753858146478, 40.703350650664795],\n",
       "    [-73.94705205297524, 40.70366394934019],\n",
       "    [-73.94625107780892, 40.70320874745355],\n",
       "    [-73.9458549904679, 40.70298720677488],\n",
       "    [-73.94544988192177, 40.702760635974364],\n",
       "    [-73.94463910154856, 40.70231369467456],\n",
       "    [-73.94431460096804, 40.70213334535181],\n",
       "    [-73.94400504048726, 40.70196179219718],\n",
       "    [-73.9438247374114, 40.701862007878276],\n",
       "    [-73.94322686012315, 40.701520709145726],\n",
       "    [-73.94306406845838, 40.7014244350918],\n",
       "    [-73.94220058705264, 40.700890667467746],\n",
       "    [-73.94193078816193, 40.70072523469547]]],\n",
       "  'type': 'Polygon'},\n",
       " 'name': 'Bedford'}"
      ]
     },
     "execution_count": 22,
     "metadata": {},
     "output_type": "execute_result"
    }
   ],
   "source": [
    "nyneigh.find_one()"
   ]
  },
  {
   "cell_type": "code",
   "execution_count": 23,
   "id": "b7946ea6",
   "metadata": {},
   "outputs": [
    {
     "data": {
      "text/plain": [
       "['Airport',\n",
       " 'Allerton-Pelham Gardens',\n",
       " \"Annadale-Huguenot-Prince's Bay-Eltingville\",\n",
       " 'Arden Heights',\n",
       " 'Astoria',\n",
       " 'Auburndale',\n",
       " 'Baisley Park',\n",
       " 'Bath Beach',\n",
       " 'Battery Park City-Lower Manhattan',\n",
       " 'Bay Ridge']"
      ]
     },
     "execution_count": 23,
     "metadata": {},
     "output_type": "execute_result"
    }
   ],
   "source": [
    "list(nyneigh.distinct('name')) [:10]"
   ]
  },
  {
   "cell_type": "code",
   "execution_count": 24,
   "id": "4d93dec0",
   "metadata": {},
   "outputs": [],
   "source": [
    "#San Francisco json from \n",
    "with open (\"jsons-input/SanFrancisco.Neighborhoods.json\") as f:\n",
    "    districts_sf = json.load(f)\n",
    "with open (\"jsons-input/sfneighborhoods.json\", \"w\") as file:\n",
    "    json.dump(districts_sf['features'], file)"
   ]
  },
  {
   "cell_type": "code",
   "execution_count": 25,
   "id": "50f4d9ae",
   "metadata": {},
   "outputs": [
    {
     "name": "stdout",
     "output_type": "stream",
     "text": [
      "/Users/nicostan/Downloads/Ironhack/labs/Project-III\r\n"
     ]
    }
   ],
   "source": [
    "!pwd"
   ]
  },
  {
   "cell_type": "code",
   "execution_count": 26,
   "id": "ca1cf74f",
   "metadata": {},
   "outputs": [
    {
     "data": {
      "text/plain": [
       "'location_2dsphere'"
      ]
     },
     "execution_count": 26,
     "metadata": {},
     "output_type": "execute_result"
    }
   ],
   "source": [
    "db.sf.create_index([(\"location\", GEOSPHERE)])"
   ]
  },
  {
   "cell_type": "code",
   "execution_count": 27,
   "id": "382e61b6",
   "metadata": {},
   "outputs": [],
   "source": [
    "sfneigh=db.get_collection('sf')"
   ]
  },
  {
   "cell_type": "code",
   "execution_count": 28,
   "id": "92723474",
   "metadata": {},
   "outputs": [
    {
     "data": {
      "text/plain": [
       "{'_id': ObjectId('62e4035a2529aa10e9859819'),\n",
       " 'geometry': {'geometries': [{'type': 'Polygon',\n",
       "    'coordinates': [[[-122.391701, 37.794113],\n",
       "      [-122.39198, 37.793906],\n",
       "      [-122.391614, 37.793571],\n",
       "      [-122.391714, 37.793459],\n",
       "      [-122.388816, 37.791005],\n",
       "      [-122.388932, 37.790919],\n",
       "      [-122.388616, 37.790348],\n",
       "      [-122.388076, 37.790518],\n",
       "      [-122.388375, 37.790334],\n",
       "      [-122.388225, 37.790032],\n",
       "      [-122.385852, 37.790951],\n",
       "      [-122.385496, 37.790559],\n",
       "      [-122.387589, 37.789838],\n",
       "      [-122.387289, 37.789347],\n",
       "      [-122.385303, 37.789838],\n",
       "      [-122.38512, 37.789313],\n",
       "      [-122.387174, 37.788807],\n",
       "      [-122.387032, 37.788255],\n",
       "      [-122.385261, 37.788537],\n",
       "      [-122.385136, 37.788156],\n",
       "      [-122.38739, 37.787736],\n",
       "      [-122.387415, 37.787269],\n",
       "      [-122.3845, 37.787437],\n",
       "      [-122.384342, 37.785728],\n",
       "      [-122.387577, 37.785485],\n",
       "      [-122.38765, 37.784929],\n",
       "      [-122.385546, 37.785009],\n",
       "      [-122.385455, 37.784711],\n",
       "      [-122.387477, 37.784493],\n",
       "      [-122.387691, 37.784412],\n",
       "      [-122.387722, 37.783928],\n",
       "      [-122.385271, 37.784049],\n",
       "      [-122.38525, 37.78379],\n",
       "      [-122.38572, 37.783774],\n",
       "      [-122.38573, 37.78354],\n",
       "      [-122.386088, 37.783435],\n",
       "      [-122.387732, 37.783282],\n",
       "      [-122.387773, 37.782911],\n",
       "      [-122.388426, 37.781801],\n",
       "      [-122.388189, 37.784771],\n",
       "      [-122.388504, 37.785348],\n",
       "      [-122.389694, 37.786243],\n",
       "      [-122.39141, 37.785103],\n",
       "      [-122.39146, 37.7855],\n",
       "      [-122.393512, 37.784564],\n",
       "      [-122.394567, 37.783783],\n",
       "      [-122.396711, 37.785549],\n",
       "      [-122.398941, 37.783785],\n",
       "      [-122.400955, 37.785389],\n",
       "      [-122.399523, 37.786631],\n",
       "      [-122.39999, 37.787004],\n",
       "      [-122.401497, 37.785824],\n",
       "      [-122.403374, 37.787401],\n",
       "      [-122.403427, 37.787676],\n",
       "      [-122.393875, 37.795248],\n",
       "      [-122.392429, 37.793835],\n",
       "      [-122.391701, 37.794113]]]}],\n",
       "  'type': 'GeometryCollection'},\n",
       " 'id': '94105',\n",
       " 'properties': {'id': 94105, 'neighborhood': 'Rincon Hill'},\n",
       " 'type': 'Feature'}"
      ]
     },
     "execution_count": 28,
     "metadata": {},
     "output_type": "execute_result"
    }
   ],
   "source": [
    "sfneigh.find_one()"
   ]
  },
  {
   "cell_type": "code",
   "execution_count": 29,
   "id": "86b0b028",
   "metadata": {},
   "outputs": [
    {
     "data": {
      "text/plain": [
       "['Tenderloin',\n",
       " 'SoMa',\n",
       " 'Rincon Hill',\n",
       " 'Nob Hill',\n",
       " 'Mission',\n",
       " 'Financial District',\n",
       " 'Ingleside',\n",
       " 'Lower Pacific Heights',\n",
       " 'Marina',\n",
       " 'Portola']"
      ]
     },
     "execution_count": 29,
     "metadata": {},
     "output_type": "execute_result"
    }
   ],
   "source": [
    "[i['neighborhood'] for i in list(sfneigh.distinct('properties'))][:10]"
   ]
  },
  {
   "cell_type": "code",
   "execution_count": 30,
   "id": "c49adc9c",
   "metadata": {},
   "outputs": [],
   "source": [
    "# London json from https://skgrange.github.io/data.html\n",
    "with open (\"jsons-input/london_sport.json\") as l:\n",
    "    districts_lon = json.load(l)\n",
    "with open (\"jsons-input/londonneighborhoods.json\", \"w\") as file:\n",
    "    json.dump(districts_lon['features'], file)"
   ]
  },
  {
   "cell_type": "code",
   "execution_count": 31,
   "id": "6d0c4fa3",
   "metadata": {},
   "outputs": [
    {
     "data": {
      "text/plain": [
       "'location_2dsphere'"
      ]
     },
     "execution_count": 31,
     "metadata": {},
     "output_type": "execute_result"
    }
   ],
   "source": [
    "db.london.create_index([(\"location\", GEOSPHERE)])"
   ]
  },
  {
   "cell_type": "code",
   "execution_count": 32,
   "id": "c93d0df9",
   "metadata": {},
   "outputs": [],
   "source": [
    "loneigh=db.get_collection('london')"
   ]
  },
  {
   "cell_type": "code",
   "execution_count": 33,
   "id": "25990341",
   "metadata": {},
   "outputs": [
    {
     "data": {
      "text/plain": [
       "{'_id': ObjectId('62e50edb2529aa10e9859835'),\n",
       " 'type': 'Feature',\n",
       " 'id': 0,\n",
       " 'properties': {'ons_label': '00AF',\n",
       "  'name': 'Bromley',\n",
       "  'partic_per': 21.7,\n",
       "  'pop_2001': 295535},\n",
       " 'geometry': {'type': 'Polygon',\n",
       "  'coordinates': [[[0.031639088712238, 51.4428843227612],\n",
       "    [0.041526082766736, 51.4404649255641],\n",
       "    [0.063332800480531, 51.4232110154574],\n",
       "    [0.076945878365856, 51.4315080025602],\n",
       "    [0.109226234597471, 51.4135979152486],\n",
       "    [0.131190923878993, 51.4143730338874],\n",
       "    [0.150436957527071, 51.4079837004008],\n",
       "    [0.163993389021342, 51.3919619878559],\n",
       "    [0.149140558177895, 51.3916280396824],\n",
       "    [0.154842725154884, 51.377506045826],\n",
       "    [0.144220785387893, 51.3502024646528],\n",
       "    [0.138560438666583, 51.3436406209607],\n",
       "    [0.120056777631048, 51.343613812122],\n",
       "    [0.123284075525613, 51.3331015205917],\n",
       "    [0.119503275315481, 51.3291280130177],\n",
       "    [0.106492317442378, 51.3269074230516],\n",
       "    [0.086624084129068, 51.3154869820709],\n",
       "    [0.08447573259809, 51.3051185300379],\n",
       "    [0.092781306084656, 51.2962916909096],\n",
       "    [0.087411082595635, 51.2926110636884],\n",
       "    [0.060101328639998, 51.2888159471971],\n",
       "    [0.052425081040893, 51.2934391507946],\n",
       "    [0.043987101326733, 51.292140892639],\n",
       "    [0.044407979910494, 51.3006327349572],\n",
       "    [0.034497784823062, 51.3069852773093],\n",
       "    [0.026426588596908, 51.3016190869643],\n",
       "    [0.020687571432488, 51.2911473508403],\n",
       "    [0.016595817600471, 51.2912496789407],\n",
       "    [0.009976886857598, 51.3098264068981],\n",
       "    [0.011934707808391, 51.315605570949],\n",
       "    [0.008168331782757, 51.3151183150229],\n",
       "    [0.003879984905643, 51.3286050716869],\n",
       "    [-0.003335680277342, 51.3515829781665],\n",
       "    [-0.022185362707856, 51.3648860877406],\n",
       "    [-0.025210614968231, 51.3788465824436],\n",
       "    [-0.035341567403973, 51.3764819360301],\n",
       "    [-0.034912909702074, 51.3879360032706],\n",
       "    [-0.051971101065307, 51.3943430305919],\n",
       "    [-0.048738244482253, 51.3974660140986],\n",
       "    [-0.051379908640113, 51.4009380292434],\n",
       "    [-0.058977367442538, 51.3985999813733],\n",
       "    [-0.066596808664226, 51.4029880423509],\n",
       "    [-0.071194455469598, 51.4121520278907],\n",
       "    [-0.079025658851289, 51.415215033541],\n",
       "    [-0.077066883273802, 51.4193052720345],\n",
       "    [-0.076684024217856, 51.4200516526493],\n",
       "    [-0.072335235803394, 51.4256308015179],\n",
       "    [-0.063229656610434, 51.4246719303829],\n",
       "    [-0.044374461631823, 51.421923006647],\n",
       "    [-0.028757663963629, 51.4251980189817],\n",
       "    [-0.019346236679427, 51.4203969586315],\n",
       "    [-0.020221991363185, 51.4159640384281],\n",
       "    [-0.008929191404282, 51.413027031391],\n",
       "    [0.005109690085798, 51.4168820801755],\n",
       "    [0.015725152178508, 51.425651933046],\n",
       "    [0.026742328841418, 51.4284709084315],\n",
       "    [0.037807146706559, 51.4218420619821],\n",
       "    [0.039298293400813, 51.432857091721],\n",
       "    [0.032787810569932, 51.4315510072891],\n",
       "    [0.030259571335498, 51.4359030400172],\n",
       "    [0.026997423295108, 51.4351680456636],\n",
       "    [0.030509185830805, 51.4411047519576],\n",
       "    [0.031639088712238, 51.4428843227612]]]}}"
      ]
     },
     "execution_count": 33,
     "metadata": {},
     "output_type": "execute_result"
    }
   ],
   "source": [
    "loneigh.find_one()"
   ]
  },
  {
   "cell_type": "code",
   "execution_count": 34,
   "id": "063d98f0",
   "metadata": {},
   "outputs": [
    {
     "data": {
      "text/plain": [
       "{'_id': ObjectId('62e50edb2529aa10e9859835'),\n",
       " 'type': 'Feature',\n",
       " 'id': 0,\n",
       " 'properties': {'ons_label': '00AF',\n",
       "  'name': 'Bromley',\n",
       "  'partic_per': 21.7,\n",
       "  'pop_2001': 295535},\n",
       " 'geometry': {'type': 'Polygon',\n",
       "  'coordinates': [[[0.031639088712238, 51.4428843227612],\n",
       "    [0.041526082766736, 51.4404649255641],\n",
       "    [0.063332800480531, 51.4232110154574],\n",
       "    [0.076945878365856, 51.4315080025602],\n",
       "    [0.109226234597471, 51.4135979152486],\n",
       "    [0.131190923878993, 51.4143730338874],\n",
       "    [0.150436957527071, 51.4079837004008],\n",
       "    [0.163993389021342, 51.3919619878559],\n",
       "    [0.149140558177895, 51.3916280396824],\n",
       "    [0.154842725154884, 51.377506045826],\n",
       "    [0.144220785387893, 51.3502024646528],\n",
       "    [0.138560438666583, 51.3436406209607],\n",
       "    [0.120056777631048, 51.343613812122],\n",
       "    [0.123284075525613, 51.3331015205917],\n",
       "    [0.119503275315481, 51.3291280130177],\n",
       "    [0.106492317442378, 51.3269074230516],\n",
       "    [0.086624084129068, 51.3154869820709],\n",
       "    [0.08447573259809, 51.3051185300379],\n",
       "    [0.092781306084656, 51.2962916909096],\n",
       "    [0.087411082595635, 51.2926110636884],\n",
       "    [0.060101328639998, 51.2888159471971],\n",
       "    [0.052425081040893, 51.2934391507946],\n",
       "    [0.043987101326733, 51.292140892639],\n",
       "    [0.044407979910494, 51.3006327349572],\n",
       "    [0.034497784823062, 51.3069852773093],\n",
       "    [0.026426588596908, 51.3016190869643],\n",
       "    [0.020687571432488, 51.2911473508403],\n",
       "    [0.016595817600471, 51.2912496789407],\n",
       "    [0.009976886857598, 51.3098264068981],\n",
       "    [0.011934707808391, 51.315605570949],\n",
       "    [0.008168331782757, 51.3151183150229],\n",
       "    [0.003879984905643, 51.3286050716869],\n",
       "    [-0.003335680277342, 51.3515829781665],\n",
       "    [-0.022185362707856, 51.3648860877406],\n",
       "    [-0.025210614968231, 51.3788465824436],\n",
       "    [-0.035341567403973, 51.3764819360301],\n",
       "    [-0.034912909702074, 51.3879360032706],\n",
       "    [-0.051971101065307, 51.3943430305919],\n",
       "    [-0.048738244482253, 51.3974660140986],\n",
       "    [-0.051379908640113, 51.4009380292434],\n",
       "    [-0.058977367442538, 51.3985999813733],\n",
       "    [-0.066596808664226, 51.4029880423509],\n",
       "    [-0.071194455469598, 51.4121520278907],\n",
       "    [-0.079025658851289, 51.415215033541],\n",
       "    [-0.077066883273802, 51.4193052720345],\n",
       "    [-0.076684024217856, 51.4200516526493],\n",
       "    [-0.072335235803394, 51.4256308015179],\n",
       "    [-0.063229656610434, 51.4246719303829],\n",
       "    [-0.044374461631823, 51.421923006647],\n",
       "    [-0.028757663963629, 51.4251980189817],\n",
       "    [-0.019346236679427, 51.4203969586315],\n",
       "    [-0.020221991363185, 51.4159640384281],\n",
       "    [-0.008929191404282, 51.413027031391],\n",
       "    [0.005109690085798, 51.4168820801755],\n",
       "    [0.015725152178508, 51.425651933046],\n",
       "    [0.026742328841418, 51.4284709084315],\n",
       "    [0.037807146706559, 51.4218420619821],\n",
       "    [0.039298293400813, 51.432857091721],\n",
       "    [0.032787810569932, 51.4315510072891],\n",
       "    [0.030259571335498, 51.4359030400172],\n",
       "    [0.026997423295108, 51.4351680456636],\n",
       "    [0.030509185830805, 51.4411047519576],\n",
       "    [0.031639088712238, 51.4428843227612]]]}}"
      ]
     },
     "execution_count": 34,
     "metadata": {},
     "output_type": "execute_result"
    }
   ],
   "source": [
    "loneigh.find_one()"
   ]
  },
  {
   "cell_type": "code",
   "execution_count": 35,
   "id": "1de6d3fc",
   "metadata": {},
   "outputs": [
    {
     "data": {
      "text/plain": [
       "['City of London',\n",
       " 'Barking and Dagenham',\n",
       " 'Barnet',\n",
       " 'Bexley',\n",
       " 'Brent',\n",
       " 'Bromley',\n",
       " 'Camden',\n",
       " 'Croydon',\n",
       " 'Ealing',\n",
       " 'Enfield']"
      ]
     },
     "execution_count": 35,
     "metadata": {},
     "output_type": "execute_result"
    }
   ],
   "source": [
    "[i['name'] for i in list(loneigh.distinct('properties'))][:10]"
   ]
  }
 ],
 "metadata": {
  "kernelspec": {
   "display_name": "Python 3 (ipykernel)",
   "language": "python",
   "name": "python3"
  },
  "language_info": {
   "codemirror_mode": {
    "name": "ipython",
    "version": 3
   },
   "file_extension": ".py",
   "mimetype": "text/x-python",
   "name": "python",
   "nbconvert_exporter": "python",
   "pygments_lexer": "ipython3",
   "version": "3.9.12"
  }
 },
 "nbformat": 4,
 "nbformat_minor": 5
}
